{
  "cells": [
    {
      "cell_type": "markdown",
      "metadata": {
        "id": "JvNLgc5nGcrc"
      },
      "source": [
        "# Sets\n",
        "\n",
        "get rid of duplicates"
      ]
    },
    {
      "cell_type": "code",
      "execution_count": 2,
      "metadata": {
        "id": "sUIUubFtFppQ"
      },
      "outputs": [],
      "source": [
        "students = [\n",
        "    {\"name\": \"Hermione\", \"house\": \"Gryffindor\"},\n",
        "    {\"name\": \"Harry\", \"house\": \"Gryffindor\"},\n",
        "    {\"name\": \"Ron\", \"house\": \"Gryffindor\"},\n",
        "    {\"name\": \"Draco\", \"house\": \"Slytherin\"},\n",
        "    {\"name\": \"Padma\", \"house\": \"Ravenclaw\"}\n",
        "]"
      ]
    },
    {
      "cell_type": "markdown",
      "metadata": {
        "id": "-cgjseLfHnqO"
      },
      "source": [
        "One way to solve this"
      ]
    },
    {
      "cell_type": "code",
      "execution_count": 3,
      "metadata": {
        "colab": {
          "base_uri": "https://localhost:8080/"
        },
        "id": "MiRBBdKJHPC0",
        "outputId": "af18ea97-0bd7-4eaf-d1be-bd8c867ac54a"
      },
      "outputs": [
        {
          "name": "stdout",
          "output_type": "stream",
          "text": [
            "Gryffindor\n",
            "Ravenclaw\n",
            "Slytherin\n"
          ]
        }
      ],
      "source": [
        "houses = []\n",
        "\n",
        "for student in students:\n",
        "  if student[\"house\"] not in houses:\n",
        "    houses.append(student[\"house\"])\n",
        "\n",
        "for house in sorted(houses):\n",
        "  print(house)"
      ]
    },
    {
      "cell_type": "markdown",
      "metadata": {
        "id": "DTHvyWGJIA1s"
      },
      "source": [
        "Using Set"
      ]
    },
    {
      "cell_type": "code",
      "execution_count": 6,
      "metadata": {
        "colab": {
          "base_uri": "https://localhost:8080/"
        },
        "id": "pbWMDaHQHqJ0",
        "outputId": "fd5f8cc0-7485-423e-e4f4-36acf4c72619"
      },
      "outputs": [
        {
          "name": "stdout",
          "output_type": "stream",
          "text": [
            "Gryffindor\n",
            "Ravenclaw\n",
            "Slytherin\n"
          ]
        }
      ],
      "source": [
        "houses = set()\n",
        "\n",
        "for student in students:\n",
        "  houses.add(student[\"house\"])\n",
        "\n",
        "for house in sorted(houses):\n",
        "  print(house)"
      ]
    },
    {
      "cell_type": "markdown",
      "metadata": {
        "id": "pK0MQClmIZ9y"
      },
      "source": [
        "# Gloabal\n",
        "\n",
        "you can read a global variable but you cant overwrite it unless you the keyword 'global'"
      ]
    },
    {
      "cell_type": "code",
      "execution_count": 8,
      "metadata": {
        "colab": {
          "base_uri": "https://localhost:8080/"
        },
        "id": "sP-MXOqmIbs6",
        "outputId": "f1f12354-61ca-4ce9-cefc-d1e5bdc6a357"
      },
      "outputs": [
        {
          "name": "stdout",
          "output_type": "stream",
          "text": [
            "Balance: 0\n",
            "Balance: 50\n"
          ]
        }
      ],
      "source": [
        "# global variable\n",
        "balance = 0\n",
        "\n",
        "\n",
        "def main():\n",
        "  print(\"Balance:\", balance)\n",
        "  deposit(100)\n",
        "  withdraw(50)\n",
        "  print(\"Balance:\", balance)\n",
        "\n",
        "\n",
        "def deposit(n):\n",
        "  global balance\n",
        "  balance += n\n",
        "\n",
        "\n",
        "def withdraw(n):\n",
        "  global balance\n",
        "  balance -= n\n",
        "\n",
        "if __name__ == \"__main__\":\n",
        "  main()"
      ]
    },
    {
      "cell_type": "markdown",
      "metadata": {
        "id": "_oXFxCFNKusn"
      },
      "source": [
        "another way to do this with OOP"
      ]
    },
    {
      "cell_type": "code",
      "execution_count": 12,
      "metadata": {
        "colab": {
          "base_uri": "https://localhost:8080/"
        },
        "id": "XDoa4AmNKxFd",
        "outputId": "5581ca6c-8671-4eb4-d634-b1e4c91740f2"
      },
      "outputs": [
        {
          "name": "stdout",
          "output_type": "stream",
          "text": [
            "Balance: 0\n",
            "Balance: 50\n"
          ]
        }
      ],
      "source": [
        "class Account:\n",
        "  def __init__(self):\n",
        "    self._balance = 0\n",
        "\n",
        "  # getter\n",
        "  @property\n",
        "  def balance(self):\n",
        "    return self._balance\n",
        "\n",
        "  def deposit(self, n):\n",
        "    self._balance += n\n",
        "\n",
        "  def withdraw(self, n):\n",
        "    self._balance -= n\n",
        "\n",
        "\n",
        "def main():\n",
        "  account = Account()\n",
        "  print(\"Balance:\", account.balance)\n",
        "  account.deposit(100)\n",
        "  account.withdraw(50)\n",
        "  print(\"Balance:\", account.balance)\n",
        "\n",
        "\n",
        "if __name__ == \"__main__\":\n",
        "  main()"
      ]
    },
    {
      "cell_type": "markdown",
      "metadata": {
        "id": "_q50UBy_MWoD"
      },
      "source": [
        "# Constants\n"
      ]
    },
    {
      "cell_type": "code",
      "execution_count": 16,
      "metadata": {
        "colab": {
          "base_uri": "https://localhost:8080/"
        },
        "id": "aP_3ZFiKMZRU",
        "outputId": "8d53996f-5138-4473-8f66-ae282a018677"
      },
      "outputs": [
        {
          "name": "stdout",
          "output_type": "stream",
          "text": [
            "meow\n",
            "meow\n",
            "meow\n"
          ]
        }
      ],
      "source": [
        "class Cat:\n",
        "  MEOWS = 3\n",
        "\n",
        "  def meow(self):\n",
        "    for _ in range(Cat.MEOWS):\n",
        "      print(\"meow\")\n",
        "\n",
        "cat = Cat()\n",
        "cat.meow()"
      ]
    },
    {
      "cell_type": "markdown",
      "metadata": {
        "id": "Z9vM1jrXNuDR"
      },
      "source": [
        "# Type Hints\n",
        "like in c++ you need to put int x = 3\n",
        "python has a tool to do check the variable is what you want"
      ]
    },
    {
      "cell_type": "code",
      "execution_count": null,
      "metadata": {
        "id": "4rNWPZipNv-Q"
      },
      "outputs": [],
      "source": [
        "# !pip install mypy"
      ]
    },
    {
      "cell_type": "markdown",
      "metadata": {
        "id": "SJIupDyYOhJI"
      },
      "source": [
        "differnt version of meows"
      ]
    },
    {
      "cell_type": "code",
      "execution_count": 19,
      "metadata": {
        "colab": {
          "base_uri": "https://localhost:8080/"
        },
        "id": "PQ-ZbHShObWB",
        "outputId": "3a3e664f-c85f-47ab-d799-6804a5ee1e98"
      },
      "outputs": [
        {
          "name": "stdout",
          "output_type": "stream",
          "text": [
            "Number: 3\n",
            "meow\n",
            "meow\n",
            "meow\n"
          ]
        }
      ],
      "source": [
        "# -> hints what the return value is\n",
        "def meow(n: int) -> str: # : int is an annotations that n should be int. just for user\n",
        "  return \"meow\\n\" * n\n",
        "\n",
        "\n",
        "number: int = int(input(\"Number: \"))\n",
        "meows: str = meow(number)\n",
        "print(meows, end=\"\")"
      ]
    },
    {
      "cell_type": "markdown",
      "metadata": {
        "id": "snYWHUC-PT8Z"
      },
      "source": [
        "you can run\n",
        "```\n",
        "mypy filename.py\n",
        "```\n",
        "this will give you an error if there is an issue like if we have\n",
        "```\n",
        "n: int\n",
        "```\n",
        "```\n",
        "number: int = input(\"Number: \")\n",
        "```"
      ]
    },
    {
      "cell_type": "markdown",
      "metadata": {
        "id": "mzIHGKODP_X6"
      },
      "source": [
        "input returns a string. mypy checks that number will be an int if it isnt mypy will return error"
      ]
    },
    {
      "cell_type": "markdown",
      "metadata": {
        "id": "AYctzlWeSdom"
      },
      "source": [
        "# Docstrings"
      ]
    },
    {
      "cell_type": "code",
      "execution_count": null,
      "metadata": {
        "id": "H1HRAJtQQFXg"
      },
      "outputs": [],
      "source": [
        "def meow(n: int) -> str:\n",
        "  '''\n",
        "  Meow n times.\n",
        "\n",
        "  :param n: Numbers of times to meow\n",
        "  :type n: int\n",
        "  :raise TypeError: If n is not an int\n",
        "  :return: A string of n meows, one per line\n",
        "  :rtype: str\n",
        "  '''\n",
        "  return \"meow\\n\" * n\n",
        "\n",
        "\n",
        "number: int = int(input(\"Number: \"))\n",
        "meows: str = meow(number)\n",
        "print(meows, end=\"\")"
      ]
    },
    {
      "cell_type": "markdown",
      "metadata": {
        "id": "1xem_9s3UHtz"
      },
      "source": [
        "# argparse"
      ]
    },
    {
      "cell_type": "code",
      "execution_count": null,
      "metadata": {
        "id": "DelQaRtmUMQl"
      },
      "outputs": [],
      "source": [
        "import sys\n",
        "\n",
        "if len(sys.argv) == 1:\n",
        "  print(\"meow\")\n",
        "elif len(sys.argv) == 3 and sys.argv[1] == \"-n\":\n",
        "  n = int(sys.argv[2])\n",
        "  for _ in range(n):\n",
        "    print(\"meow\")\n",
        "else:\n",
        "  print(\"usage: meows.py\")"
      ]
    },
    {
      "cell_type": "markdown",
      "metadata": {
        "id": "hYp49Wq_Voty"
      },
      "source": [
        "if there is alot of flags \"-n\" \"-a\" etc.. to run a program in CLI we can use argparse"
      ]
    },
    {
      "cell_type": "code",
      "execution_count": null,
      "metadata": {
        "id": "V70yFqCvVxpp"
      },
      "outputs": [],
      "source": [
        "import argparse\n",
        "\n",
        "parser = argparse.ArgumentParser(description=\"Meow like a cat\") # constructor\n",
        "parser.add_argument(\"-n\", default=1, help=\"Number of times to meow\", type=int) # add the argument\n",
        "args = parser.parse_args()\n",
        "\n",
        "\n",
        "for _ in range(args.n):\n",
        "  print(\"meow\")"
      ]
    },
    {
      "cell_type": "markdown",
      "metadata": {
        "id": "05eSVZu6X9yJ"
      },
      "source": [
        "# Unpacking"
      ]
    },
    {
      "cell_type": "code",
      "execution_count": 23,
      "metadata": {
        "colab": {
          "base_uri": "https://localhost:8080/"
        },
        "id": "oENaVl4oX_aB",
        "outputId": "94de10a5-1843-4f55-f8bd-49a873f8302e"
      },
      "outputs": [
        {
          "name": "stdout",
          "output_type": "stream",
          "text": [
            "What's your name? Erik Mercado\n",
            "hello, Erik\n"
          ]
        }
      ],
      "source": [
        "# use _ if you dont use that variable again\n",
        "first, _ = input(\"What's your name? \").split(\" \")\n",
        "print(f\"hello, {first}\")"
      ]
    },
    {
      "cell_type": "code",
      "execution_count": 25,
      "metadata": {
        "colab": {
          "base_uri": "https://localhost:8080/"
        },
        "id": "wQdu_aGNYde_",
        "outputId": "27001350-6a7a-437b-f88b-33fb9dd727bb"
      },
      "outputs": [
        {
          "name": "stdout",
          "output_type": "stream",
          "text": [
            "50775 Knuts\n"
          ]
        }
      ],
      "source": [
        "def total(galleons, sickles, knuts):\n",
        "  return (galleons * 17 + sickles) * 29 + knuts\n",
        "\n",
        "coins = [100, 50, 25]\n",
        "\n",
        "# *coins will unpack coins and pass to total\n",
        "print(total(*coins), \"Knuts\")"
      ]
    },
    {
      "cell_type": "markdown",
      "metadata": {
        "id": "BqI_gSqwahLN"
      },
      "source": [
        "Another way to do this"
      ]
    },
    {
      "cell_type": "code",
      "execution_count": 32,
      "metadata": {
        "colab": {
          "base_uri": "https://localhost:8080/"
        },
        "id": "G-tZm_3jagn3",
        "outputId": "da368e9e-171a-47a1-a50b-5e59af37b3dd"
      },
      "outputs": [
        {
          "name": "stdout",
          "output_type": "stream",
          "text": [
            "50775 Knuts\n"
          ]
        }
      ],
      "source": [
        "def total(galleons, sickles, knuts):\n",
        "  return (galleons * 17 + sickles) * 29 + knuts\n",
        "\n",
        "# **coins\n",
        "# unpack dict\n",
        "# galleons=100, sickles=50 knuts=25\n",
        "coins = {\"galleons\": 100, \"sickles\": 50, \"knuts\": 25}\n",
        "print(total(**coins), \"Knuts\")"
      ]
    },
    {
      "cell_type": "markdown",
      "metadata": {
        "id": "Vi_xR--CcxPx"
      },
      "source": [
        "args and kwargs"
      ]
    },
    {
      "cell_type": "code",
      "execution_count": 42,
      "metadata": {
        "colab": {
          "base_uri": "https://localhost:8080/"
        },
        "id": "oRmEbxT_cdvm",
        "outputId": "de14ac16-bd14-4e94-a4e4-c7a571fae55d"
      },
      "outputs": [
        {
          "name": "stdout",
          "output_type": "stream",
          "text": [
            "Positional: (100, 50, 20)\n",
            "Positional: (100, 50, 20, 5)\n",
            "Positional: (100,)\n",
            "Named: {'galleons': 100, 'sickles': 50, 'knuts': 25}\n",
            "Named: {'galleons': 100, 'sickles': 50, 'knuts': 25, 'pennies': 1}\n",
            "Named: {'galleons': 100}\n"
          ]
        }
      ],
      "source": [
        "# we dont know how many variables are going to be passed in\n",
        "# we want to have named paraments that can be called by their name\n",
        "def f(*args, **kwargs):\n",
        "  if len(kwargs) == 0:\n",
        "    print(\"Positional:\", args)\n",
        "  else:\n",
        "    print(\"Named:\", kwargs)\n",
        "\n",
        "# args\n",
        "f(100, 50, 20)\n",
        "f(100, 50, 20,5)\n",
        "f(100)\n",
        "\n",
        "# kwargs\n",
        "f(galleons=100, sickles=50, knuts=25)\n",
        "f(galleons=100, sickles=50, knuts=25, pennies=1)\n",
        "f(galleons=100)"
      ]
    },
    {
      "cell_type": "markdown",
      "metadata": {
        "id": "bamKJP2EiPvu"
      },
      "source": [
        "# List Comprehensions\n",
        "create list on the fly"
      ]
    },
    {
      "cell_type": "code",
      "execution_count": 48,
      "metadata": {
        "colab": {
          "base_uri": "https://localhost:8080/"
        },
        "id": "VYd_5XwAfd2Z",
        "outputId": "d1dc6fc2-c74e-4b0b-d344-f53152f66f6a"
      },
      "outputs": [
        {
          "name": "stdout",
          "output_type": "stream",
          "text": [
            "THIS IS CS50\n"
          ]
        }
      ],
      "source": [
        "def main():\n",
        "  yell(\"This\", \"is\", \"CS50\")\n",
        "\n",
        "\n",
        "def yell(*args):\n",
        "  uppercased = [word.upper() for word in args] # create a new list in one line\n",
        "  print(*uppercased) # unpack the list\n",
        "\n",
        "\n",
        "if __name__ == \"__main__\":\n",
        "  main()"
      ]
    },
    {
      "cell_type": "markdown",
      "metadata": {
        "id": "5tqzo7R2jmIM"
      },
      "source": [
        "more complex example of list comprehensions"
      ]
    },
    {
      "cell_type": "code",
      "execution_count": 57,
      "metadata": {
        "colab": {
          "base_uri": "https://localhost:8080/"
        },
        "id": "aID0vGILitJD",
        "outputId": "48b49dad-e2ec-496c-9742-8835249c00cb"
      },
      "outputs": [
        {
          "name": "stdout",
          "output_type": "stream",
          "text": [
            "Harry\n",
            "Hermione\n",
            "Ron\n"
          ]
        }
      ],
      "source": [
        "gryffindors = [\n",
        "    student[\"name\"] for student in students if student[\"house\"] == \"Gryffindor\"\n",
        "]\n",
        "\n",
        "for gryffindor in sorted(gryffindors):\n",
        "  print(gryffindor)"
      ]
    },
    {
      "cell_type": "markdown",
      "metadata": {
        "id": "7Id04c3bfcqw"
      },
      "source": [
        "# Map"
      ]
    },
    {
      "cell_type": "markdown",
      "metadata": {
        "id": "Rk8UdmWuhNPb"
      },
      "source": [
        "Map: apply some function to every element of some sequence"
      ]
    },
    {
      "cell_type": "code",
      "execution_count": 50,
      "metadata": {
        "colab": {
          "base_uri": "https://localhost:8080/"
        },
        "id": "B0NZ0NXjhJTO",
        "outputId": "70aab7b1-a030-4a06-dd84-510b5a8eed0d"
      },
      "outputs": [
        {
          "name": "stdout",
          "output_type": "stream",
          "text": [
            "THIS IS CS50\n"
          ]
        }
      ],
      "source": [
        "def main():\n",
        "  yell(\"This\", \"is\", \"CS50\")\n",
        "\n",
        "\n",
        "# map will apply str.upper to every argument and put them in a new list called uppercased\n",
        "def yell(*args):\n",
        "  uppercased = map(str.upper, args)\n",
        "  print(*uppercased)\n",
        "\n",
        "\n",
        "if __name__ == \"__main__\":\n",
        "  main()"
      ]
    },
    {
      "cell_type": "markdown",
      "metadata": {
        "id": "a7vHwHvXjdD1"
      },
      "source": [
        "# Filter"
      ]
    },
    {
      "cell_type": "code",
      "execution_count": 60,
      "metadata": {
        "colab": {
          "base_uri": "https://localhost:8080/"
        },
        "id": "Z8r5snjRjcLl",
        "outputId": "58d8caa6-c8d6-4c1d-bf85-4c73bc7dff6e"
      },
      "outputs": [
        {
          "name": "stdout",
          "output_type": "stream",
          "text": [
            "Harry\n",
            "Hermione\n",
            "Ron\n"
          ]
        }
      ],
      "source": [
        "def is_gryffindor(s):\n",
        "  return s[\"house\"] == \"Gryffindor\"\n",
        "\n",
        "gryffindors = filter(is_gryffindor, students)\n",
        "\n",
        "for gryffindor in sorted(gryffindors, key=lambda s: s[\"name\"]):\n",
        "  print(gryffindor[\"name\"])"
      ]
    },
    {
      "cell_type": "markdown",
      "metadata": {
        "id": "njns6gJrlO0c"
      },
      "source": [
        "You can use lamda to avoid writing the is_grffindor function"
      ]
    },
    {
      "cell_type": "code",
      "execution_count": 61,
      "metadata": {
        "colab": {
          "base_uri": "https://localhost:8080/"
        },
        "id": "QfF583lglBWa",
        "outputId": "32645a42-ef3b-4f52-86c1-515e7a2a6348"
      },
      "outputs": [
        {
          "name": "stdout",
          "output_type": "stream",
          "text": [
            "Harry\n",
            "Hermione\n",
            "Ron\n"
          ]
        }
      ],
      "source": [
        "gryffindors = filter(lambda s: s[\"house\"] == \"Gryffindor\", students)\n",
        "\n",
        "for gryffindor in sorted(gryffindors, key=lambda s: s[\"name\"]):\n",
        "  print(gryffindor[\"name\"])"
      ]
    },
    {
      "cell_type": "markdown",
      "metadata": {
        "id": "3ncUaNNWlWNl"
      },
      "source": [
        "# Dictionary Comprehensions"
      ]
    },
    {
      "cell_type": "code",
      "execution_count": 64,
      "metadata": {
        "colab": {
          "base_uri": "https://localhost:8080/"
        },
        "id": "UACBe2oklb98",
        "outputId": "ecc8e437-fe5b-4e6b-b4d2-a99876fd28b5"
      },
      "outputs": [
        {
          "name": "stdout",
          "output_type": "stream",
          "text": [
            "[{'name': 'Herminoe', 'house': 'Gryffindor'}, {'name': 'Harry', 'house': 'Gryffindor'}, {'name': 'Ron', 'house': 'Gryffindor'}]\n"
          ]
        }
      ],
      "source": [
        "students_00 = [\"Herminoe\", \"Harry\", \"Ron\"]\n",
        "\n",
        "gryffindors = [{\"name\": student_00, \"house\": \"Gryffindor\"} for student_00 in students_00]\n",
        "\n",
        "print(gryffindors)"
      ]
    },
    {
      "cell_type": "markdown",
      "metadata": {
        "id": "xJMDeWkrmy_i"
      },
      "source": [
        "if you want just one big dictionary"
      ]
    },
    {
      "cell_type": "code",
      "execution_count": 65,
      "metadata": {
        "colab": {
          "base_uri": "https://localhost:8080/"
        },
        "id": "yJ4EYU3pmUbi",
        "outputId": "d5c48ce6-4b2e-41af-eca4-a2cc98cbba34"
      },
      "outputs": [
        {
          "name": "stdout",
          "output_type": "stream",
          "text": [
            "{'Herminoe': 'Gryffindor', 'Harry': 'Gryffindor', 'Ron': 'Gryffindor'}\n"
          ]
        }
      ],
      "source": [
        "gryffindors = {student_00: \"Gryffindor\" for student_00 in students_00}\n",
        "\n",
        "print(gryffindors)"
      ]
    },
    {
      "cell_type": "markdown",
      "metadata": {
        "id": "LlbJKCIWnOum"
      },
      "source": [
        "# enumerate"
      ]
    },
    {
      "cell_type": "code",
      "execution_count": 68,
      "metadata": {
        "colab": {
          "base_uri": "https://localhost:8080/"
        },
        "id": "-8Y7NmrZvC5C",
        "outputId": "40cb25fd-9a70-40d9-aab6-73713687be84"
      },
      "outputs": [
        {
          "name": "stdout",
          "output_type": "stream",
          "text": [
            "1 Hermione\n",
            "2 Harry\n",
            "3 Ron\n"
          ]
        }
      ],
      "source": [
        "students = [\"Hermione\", \"Harry\", \"Ron\"]\n",
        "\n",
        "# get the index 1 and the value \"Hermione\"\n",
        "for i, student in enumerate(students):\n",
        "  print(i + 1, student)"
      ]
    },
    {
      "cell_type": "markdown",
      "metadata": {
        "id": "GGqpj-wRvn12"
      },
      "source": [
        "# Generators"
      ]
    },
    {
      "cell_type": "code",
      "execution_count": 73,
      "metadata": {
        "colab": {
          "base_uri": "https://localhost:8080/"
        },
        "id": "-B_-v3Y5vp26",
        "outputId": "bd753f10-3d45-4d94-cb87-47e915dc9e9d"
      },
      "outputs": [
        {
          "name": "stdout",
          "output_type": "stream",
          "text": [
            "What's n? 4\n",
            "\n",
            "🐑\n",
            "🐑🐑\n",
            "🐑🐑🐑\n"
          ]
        }
      ],
      "source": [
        "def main():\n",
        "  n = int(input(\"What's n? \"))\n",
        "  for s in sheep(n):\n",
        "    print(s)\n",
        "\n",
        "\n",
        "def sheep(n):\n",
        "  flock = []\n",
        "  for i in range(n):\n",
        "    flock.append(\"🐑\" * i)\n",
        "  return flock\n",
        "\n",
        "\n",
        "if __name__ == \"__main__\":\n",
        "  main()\n",
        "\n",
        "# if n = 1million this will take way too long to print everything"
      ]
    },
    {
      "cell_type": "markdown",
      "metadata": {
        "id": "DcmlLFFPyIxB"
      },
      "source": [
        "*yeild* returns an iterators.\n",
        "\n",
        "it will print one thing at a time.\n",
        "\n",
        "instead of waiting to return all 10k sheep at once it will return 1,2,3,4,5,6,...., 10,000"
      ]
    },
    {
      "cell_type": "code",
      "execution_count": 2,
      "metadata": {
        "colab": {
          "base_uri": "https://localhost:8080/"
        },
        "id": "7BeWA4rIyGOl",
        "outputId": "789d79eb-8ee6-4107-fdce-de781a562af4"
      },
      "outputs": [
        {
          "name": "stdout",
          "output_type": "stream",
          "text": [
            "\n",
            "🐑\n",
            "🐑🐑\n",
            "🐑🐑🐑\n",
            "🐑🐑🐑🐑\n",
            "🐑🐑🐑🐑🐑\n",
            "🐑🐑🐑🐑🐑🐑\n",
            "🐑🐑🐑🐑🐑🐑🐑\n",
            "🐑🐑🐑🐑🐑🐑🐑🐑\n",
            "🐑🐑🐑🐑🐑🐑🐑🐑🐑\n",
            "🐑🐑🐑🐑🐑🐑🐑🐑🐑🐑\n",
            "🐑🐑🐑🐑🐑🐑🐑🐑🐑🐑🐑\n",
            "🐑🐑🐑🐑🐑🐑🐑🐑🐑🐑🐑🐑\n",
            "🐑🐑🐑🐑🐑🐑🐑🐑🐑🐑🐑🐑🐑\n",
            "🐑🐑🐑🐑🐑🐑🐑🐑🐑🐑🐑🐑🐑🐑\n"
          ]
        }
      ],
      "source": [
        "def main():\n",
        "  n = int(input(\"What's n? \"))\n",
        "  for s in sheep(n):\n",
        "    print(s)\n",
        "\n",
        "\n",
        "def sheep(n):\n",
        "  flock = []\n",
        "  for i in range(n):\n",
        "    yield \"🐑\" * i # return 1 value at a time\n",
        "\n",
        "\n",
        "if __name__ == \"__main__\":\n",
        "  main()"
      ]
    },
    {
      "cell_type": "markdown",
      "metadata": {
        "id": "IYj_FoAX0HJA"
      },
      "source": [
        "# Say.py"
      ]
    },
    {
      "cell_type": "code",
      "execution_count": null,
      "metadata": {
        "id": "TI5Ed2x90Fkv"
      },
      "outputs": [],
      "source": [
        "# !pip install cowsay"
      ]
    },
    {
      "cell_type": "code",
      "execution_count": null,
      "metadata": {
        "id": "ebHk6Yx70U9Z"
      },
      "outputs": [],
      "source": [
        "# !pip install pyttsx3"
      ]
    },
    {
      "cell_type": "code",
      "execution_count": null,
      "metadata": {
        "colab": {
          "base_uri": "https://localhost:8080/",
          "height": 460
        },
        "id": "Asgo7KTQ0ajU",
        "outputId": "0452282f-8f8f-4099-bf61-2daf337dad72"
      },
      "outputs": [],
      "source": [
        "# import cowsay\n",
        "# import pyttsx3\n",
        "\n",
        "# engine = pyttsx3.init()\n",
        "# this = input(\"What's this? \")\n",
        "\n",
        "# cowsay.cow(this)\n",
        "# engine.say(this)\n",
        "# engine.runAndWait()"
      ]
    }
  ],
  "metadata": {
    "colab": {
      "provenance": []
    },
    "kernelspec": {
      "display_name": "Python 3",
      "name": "python3"
    },
    "language_info": {
      "codemirror_mode": {
        "name": "ipython",
        "version": 3
      },
      "file_extension": ".py",
      "mimetype": "text/x-python",
      "name": "python",
      "nbconvert_exporter": "python",
      "pygments_lexer": "ipython3",
      "version": "3.11.1"
    }
  },
  "nbformat": 4,
  "nbformat_minor": 0
}
